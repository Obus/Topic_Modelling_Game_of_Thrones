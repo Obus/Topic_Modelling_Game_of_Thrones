{
 "cells": [
  {
   "cell_type": "markdown",
   "metadata": {},
   "source": [
    "# Чтение данных"
   ]
  },
  {
   "cell_type": "code",
   "execution_count": 2,
   "metadata": {
    "collapsed": true
   },
   "outputs": [],
   "source": [
    "def extract_chapters(book_file_name, print_report=True):\n",
    "    \"\"\"\n",
    "    Extracting paragraphs from single book text file \n",
    "    \n",
    "    Parameters\n",
    "    ----------\n",
    "    book_file_name : String\n",
    "        book contents file\n",
    "        \n",
    "    print_report : Boolean\n",
    "        flag for printing parse book statistics\n",
    "    \n",
    "    Returns\n",
    "    -------\n",
    "    chapters : List[(String. String)]\n",
    "        list of chapters tuples: (chapter header, chapter content)\n",
    "    \"\"\"\n",
    "    with open(book_file_name, 'r') as input_file:\n",
    "        book = (input_file\n",
    "                  .read()\n",
    "                  .decode('cp1251')\n",
    "                  .replace('\\n\\r', '\\n'))\n",
    "    \n",
    "    book_without_intro = book.split('\\n\\n\\n\\n\\n\\n\\n\\n\\n\\n\\n\\n')[-1]\n",
    "\n",
    "    chapters = []\n",
    "    for i, split in enumerate(book_without_intro.split('\\r\\n\\n\\n\\n\\n')):\n",
    "        header = split.split('\\r\\n')[0].replace('\\n','')\n",
    "        content = '\\n'.join(split.split('\\r\\n')[1:])\n",
    "        if header == u'Приложение' or header == u'Приложения' :\n",
    "            break\n",
    "        if header:\n",
    "            chapters.append((header, content))\n",
    "\n",
    "    if print_report:\n",
    "        print 'Total chapters: %d' % len(chapters)\n",
    "        enumerated_chapters = list(enumerate(chapters))\n",
    "        for i, chapter in enumerated_chapters[:5]:\n",
    "            print '%d.' % i, chapter[0], len(chapter[1])\n",
    "        print '...'\n",
    "        for i, chapter in enumerated_chapters[-5:]:\n",
    "            print '%d.' % i, chapter[0], len(chapter[1].split(' '))\n",
    "\n",
    "    return chapters"
   ]
  },
  {
   "cell_type": "code",
   "execution_count": 4,
   "metadata": {
    "collapsed": false
   },
   "outputs": [
    {
     "name": "stdout",
     "output_type": "stream",
     "text": [
      "Total chapters: 73\n",
      "0. Пролог 20317\n",
      "1. Бран 15904\n",
      "2. Кейтилин 11034\n",
      "3. Дейенерис 22567\n",
      "4. Эддард 20851\n",
      "...\n",
      "68. Дейенерис 3273\n",
      "69. Тирион 2738\n",
      "70. Джон 3909\n",
      "71. Кейтилин 3641\n",
      "72. Дейенерис 2738\n"
     ]
    }
   ],
   "source": [
    "book_1_chapters = extract_chapters('data/SongOfIceAndFire_content_files/Martin_D._Pesnldaiognya1._Igra_Prestolov.txt')"
   ]
  },
  {
   "cell_type": "code",
   "execution_count": 6,
   "metadata": {
    "collapsed": false
   },
   "outputs": [
    {
     "name": "stdout",
     "output_type": "stream",
     "text": [
      "Total chapters: 70\n",
      "0. Пролог 52061\n",
      "1. Арья 12324\n",
      "2. Санса 24389\n",
      "3. Тирион 30073\n",
      "4. Бран 18397\n",
      "...\n",
      "65. Санса 2294\n",
      "66. Теон 2757\n",
      "67. Тирион 2028\n",
      "68. Джон 2525\n",
      "69. Бран 2492\n"
     ]
    }
   ],
   "source": [
    "book_2_chapters = extract_chapters('data/SongOfIceAndFire_content_files/Martin_D._Pesnldaiognya2._Bitva_Koroleyi.txt')"
   ]
  },
  {
   "cell_type": "code",
   "execution_count": 7,
   "metadata": {
    "collapsed": false
   },
   "outputs": [
    {
     "name": "stdout",
     "output_type": "stream",
     "text": [
      "Total chapters: 83\n",
      "0. По поводу хронологии 732\n",
      "1. Пролог 31716\n",
      "2. Джейме 27328\n",
      "3. Кейтилин 17943\n",
      "4. Арья 17551\n",
      "...\n",
      "78. Тирион 3091\n",
      "79. Сэмвел 3487\n",
      "80. Джон 2922\n",
      "81. Санса 4972\n",
      "82. Эпилог 3626\n"
     ]
    }
   ],
   "source": [
    "book_3_chapters = extract_chapters('data/SongOfIceAndFire_content_files/Martin_D._Pesnldaiognya3._Burya_Mecheyi.txt')"
   ]
  },
  {
   "cell_type": "code",
   "execution_count": 8,
   "metadata": {
    "collapsed": false
   },
   "outputs": [
    {
     "name": "stdout",
     "output_type": "stream",
     "text": [
      "Total chapters: 47\n",
      "0. Пролог 30418\n",
      "1. Пророк 28324\n",
      "2. Капитан гвардии 34172\n",
      "3. Серсея 22147\n",
      "4. Бриенна 31578\n",
      "...\n",
      "42. Бриенна 4126\n",
      "43. Серсея 4907\n",
      "44. Джейме 4308\n",
      "45. Сэмвел 3901\n",
      "46. А на Стене в это время… 167\n"
     ]
    }
   ],
   "source": [
    "book_4_chapters = extract_chapters('data/SongOfIceAndFire_content_files/Martin_D._Pesnldaiognya4._Pir_Stervyatnikov.txt')"
   ]
  },
  {
   "cell_type": "markdown",
   "metadata": {},
   "source": [
    "#### something wrong with the last chapter, dropping it:"
   ]
  },
  {
   "cell_type": "code",
   "execution_count": 9,
   "metadata": {
    "collapsed": true
   },
   "outputs": [],
   "source": [
    "book_4_chapters = book_4_chapters[:-1]"
   ]
  },
  {
   "cell_type": "code",
   "execution_count": 11,
   "metadata": {
    "collapsed": false
   },
   "outputs": [
    {
     "name": "stdout",
     "output_type": "stream",
     "text": [
      "Total chapters: 38\n",
      "0. Хронологическая справка 1193\n",
      "1. Пролог 25389\n",
      "2. Тирион 29923\n",
      "3. Дейенерис 31014\n",
      "4. Джон 27786\n",
      "...\n",
      "33. Вонючка 3921\n",
      "34. Тирион 3825\n",
      "35. Бран 3975\n",
      "36. Джон 3338\n",
      "37. Дейенерис 3065\n"
     ]
    }
   ],
   "source": [
    "book_5_chapters = extract_chapters('data/SongOfIceAndFire_content_files/Martin_D._Pesnldaiognya5._Tanec_S_Drakonami_Kniga_1.txt')"
   ]
  },
  {
   "cell_type": "markdown",
   "metadata": {},
   "source": [
    "#### we does not want this first chapter, dropping it:"
   ]
  },
  {
   "cell_type": "code",
   "execution_count": 12,
   "metadata": {
    "collapsed": true
   },
   "outputs": [],
   "source": [
    "book_5_chapters = book_5_chapters[1:]"
   ]
  },
  {
   "cell_type": "code",
   "execution_count": 13,
   "metadata": {
    "collapsed": false
   },
   "outputs": [
    {
     "name": "stdout",
     "output_type": "stream",
     "text": [
      "Total chapters: 36\n",
      "0. Принц Винтерфелла 29760\n",
      "1. Страж 25832\n",
      "2. Джон 16845\n",
      "3. Тирион 20031\n",
      "4. Переметчивый 22367\n",
      "...\n",
      "31. Укротитель драконов 2584\n",
      "32. Джон 3897\n",
      "33. Десница королевы 4106\n",
      "34. Дейенерис 3775\n",
      "35. Эпилог 4518\n"
     ]
    }
   ],
   "source": [
    "book_6_chapters = extract_chapters('data/SongOfIceAndFire_content_files/Martin_D._Pesnldaiognya5._Tanec_S_Drakonami_Kniga_2.txt')"
   ]
  },
  {
   "cell_type": "code",
   "execution_count": null,
   "metadata": {
    "collapsed": true
   },
   "outputs": [],
   "source": []
  },
  {
   "cell_type": "markdown",
   "metadata": {
    "collapsed": true
   },
   "source": [
    "# Creating documents from chapters"
   ]
  },
  {
   "cell_type": "code",
   "execution_count": 14,
   "metadata": {
    "collapsed": true
   },
   "outputs": [],
   "source": [
    "books = [\n",
    "    book_1_chapters,\n",
    "    book_2_chapters,\n",
    "    book_3_chapters,\n",
    "    book_4_chapters,\n",
    "    book_5_chapters,\n",
    "    book_6_chapters\n",
    "]"
   ]
  },
  {
   "cell_type": "markdown",
   "metadata": {},
   "source": [
    "#### Creating list `docs` with documents and list `book_chapters_list` with chapters meta-info with same indexing for further processing"
   ]
  },
  {
   "cell_type": "code",
   "execution_count": 36,
   "metadata": {
    "collapsed": false
   },
   "outputs": [
    {
     "name": "stdout",
     "output_type": "stream",
     "text": [
      "Number of documents: 345\n"
     ]
    }
   ],
   "source": [
    "docs = []\n",
    "book_chapters_list = []\n",
    "\n",
    "for book_number, book_chapters in enumerate(books):\n",
    "    for chapter_number, chapter in enumerate(book_chapters):\n",
    "        docs.append(chapter[1])\n",
    "        book_chapters_list.append((book_number, chapter_number, chapter))\n",
    "    \n",
    "print 'Number of documents: %d' % len(docs)"
   ]
  },
  {
   "cell_type": "code",
   "execution_count": null,
   "metadata": {
    "collapsed": true
   },
   "outputs": [],
   "source": []
  },
  {
   "cell_type": "markdown",
   "metadata": {},
   "source": [
    "# Transform documents to vectors"
   ]
  },
  {
   "cell_type": "markdown",
   "metadata": {},
   "source": [
    "### Helper functions to filter out non-letters, lower-casing, etc."
   ]
  },
  {
   "cell_type": "code",
   "execution_count": 50,
   "metadata": {
    "collapsed": true
   },
   "outputs": [],
   "source": [
    "import re\n",
    "non_letter_rgxp = re.compile(u'[^а-яА-Я ]')\n",
    "\n",
    "def remove_non_letters(string):\n",
    "    return non_letter_rgxp.sub(' ', string)"
   ]
  },
  {
   "cell_type": "markdown",
   "metadata": {},
   "source": [
    "### Stemming"
   ]
  },
  {
   "cell_type": "code",
   "execution_count": 31,
   "metadata": {
    "collapsed": false
   },
   "outputs": [],
   "source": [
    "import nltk\n",
    "from nltk.stem.snowball import SnowballStemmer\n",
    "\n",
    "stemmer = SnowballStemmer(\"russian\")\n",
    "\n",
    "def stem(tokens):\n",
    "    return (stemmer.stem(t) for t in tokens)"
   ]
  },
  {
   "cell_type": "markdown",
   "metadata": {},
   "source": [
    "### Creating `words_black_list` of meaningless words to filter them out"
   ]
  },
  {
   "cell_type": "code",
   "execution_count": 51,
   "metadata": {
    "collapsed": false
   },
   "outputs": [],
   "source": [
    "with open('data/conjunctions.txt', 'r') as f:\n",
    "    conjunctions_str = f.read().decode('utf-8')\n",
    "    conjunctions = [s for s in stem(remove_non_letters(conjunctions_str).split()) if s]\n",
    "\n",
    "with open('data/pronouns.txt', 'r') as f:\n",
    "    pronouns_str = f.read().decode('utf-8')\n",
    "    pronouns = [s for s in stem(remove_non_letters(pronouns_str).split()) if s]\n",
    "\n",
    "words_black_list = set(pronouns) | set(conjunctions)"
   ]
  },
  {
   "cell_type": "markdown",
   "metadata": {},
   "source": [
    "### Splitting docs into words (tokens)"
   ]
  },
  {
   "cell_type": "code",
   "execution_count": 108,
   "metadata": {
    "collapsed": false
   },
   "outputs": [],
   "source": [
    "docs_tokens = [\n",
    "    list(filter(\n",
    "            lambda w: w and w not in words_black_list and len(w) > 2, \n",
    "            stem(remove_non_letters(doc.lower()).split(' '))))\n",
    "    for doc in docs\n",
    "]"
   ]
  },
  {
   "cell_type": "code",
   "execution_count": null,
   "metadata": {
    "collapsed": true
   },
   "outputs": [],
   "source": []
  },
  {
   "cell_type": "markdown",
   "metadata": {},
   "source": [
    "### Calculating words (tokens) frequency"
   ]
  },
  {
   "cell_type": "code",
   "execution_count": 110,
   "metadata": {
    "collapsed": false
   },
   "outputs": [
    {
     "name": "stdout",
     "output_type": "stream",
     "text": [
      "Number of unique words: 27516\n"
     ]
    }
   ],
   "source": [
    "import collections\n",
    "\n",
    "token_frequency_dict = collections.defaultdict(lambda: 0)\n",
    "for tokens in docs_tokens:\n",
    "    for t in tokens:\n",
    "        token_frequency_dict[t] += 1\n",
    "        \n",
    "print 'Number of unique words: %d' % len(token_frequency_dict)"
   ]
  },
  {
   "cell_type": "markdown",
   "metadata": {},
   "source": [
    "### Transforming documents (as lists of words) into sparse matrix"
   ]
  },
  {
   "cell_type": "code",
   "execution_count": 111,
   "metadata": {
    "collapsed": true
   },
   "outputs": [],
   "source": [
    "import itertools\n",
    "import scipy as sp\n",
    "\n",
    "def flatten(iterators_iterator):\n",
    "    \"\"\"\n",
    "    Chaining iterator of iterators into one iterator\n",
    "    \"\"\"\n",
    "    return itertools.chain.from_iterable(iterators_iterator)\n",
    "\n",
    "\n",
    "class Doc2Vec(object):\n",
    "    \"\"\"\n",
    "    Class for transformation: \n",
    "        1. list of words (document) to vector\n",
    "        2. list of lists of words (corpus) to sparse matrix\n",
    "    \"\"\"\n",
    "    def __init__(self, tokens):\n",
    "        \"\"\"\n",
    "        Parameters\n",
    "        ----------\n",
    "        tokens : iterator\n",
    "            iterator of possible words, used for further trasformations\n",
    "        \"\"\"\n",
    "        self.id_token_dict = dict(enumerate(tokens))\n",
    "        self.token_id_dict = dict(((v, k) for k, v in self.id_token_dict.items()))\n",
    "       \n",
    "    def doc2vec(self, doc_tokens):\n",
    "        \"\"\"\n",
    "        Transform list of words (document) to vector\n",
    "        \n",
    "        Parameters\n",
    "        ----------\n",
    "        doc_tokens : iterator\n",
    "            document words\n",
    "            \n",
    "        Returns\n",
    "        -------\n",
    "        document vector as list of tuples: [(word int id, word frequency)]\n",
    "        \"\"\"\n",
    "        id_cnt_dict = collections.Counter((self.token_id_dict[t] for t in doc_tokens))\n",
    "        return list(id_cnt_dict.items())\n",
    "    \n",
    "    def docs2csr_matrix(self, docs_tokens):\n",
    "        \"\"\"\n",
    "        Transform list of words (document) to vector\n",
    "        \n",
    "        Parameters\n",
    "        ----------\n",
    "        docs_tokens : iterator of iterators\n",
    "            documents words\n",
    "            \n",
    "        Returns\n",
    "        -------\n",
    "        corpus matrix as sp.sparse.csr_matrix\n",
    "        \"\"\"\n",
    "        docs_vecs = [self.doc2vec(doc_tokens) for doc_tokens in docs_tokens]\n",
    "        data = list(flatten((((id_cnt[1] for id_cnt in doc_vec) for doc_vec in docs_vecs))))\n",
    "        row_ind = list(flatten((((doc_ind for id_cnt in doc_vec) for doc_ind, doc_vec in enumerate(docs_vecs)))))\n",
    "        col_ind = list(flatten((((id_cnt[0] for id_cnt in doc_vec) for doc_vec in docs_vecs))))\n",
    "        return sp.sparse.csr_matrix((data, (row_ind, col_ind)), dtype=float)\n",
    "        "
   ]
  },
  {
   "cell_type": "markdown",
   "metadata": {},
   "source": [
    "### Vectorization"
   ]
  },
  {
   "cell_type": "code",
   "execution_count": 112,
   "metadata": {
    "collapsed": false
   },
   "outputs": [
    {
     "name": "stdout",
     "output_type": "stream",
     "text": [
      "Corpus matrix of size 345x27516\n"
     ]
    }
   ],
   "source": [
    "tokens = set(flatten(docs_tokens))\n",
    "doc2vec = Doc2Vec(tokens)\n",
    "\n",
    "X = doc2vec.docs2csr_matrix(docs_tokens)\n",
    "\n",
    "print 'Corpus matrix of size %dx%d' % X.shape"
   ]
  },
  {
   "cell_type": "code",
   "execution_count": null,
   "metadata": {
    "collapsed": false
   },
   "outputs": [],
   "source": []
  },
  {
   "cell_type": "markdown",
   "metadata": {},
   "source": [
    "# TFIDF"
   ]
  },
  {
   "cell_type": "markdown",
   "metadata": {},
   "source": [
    "### Very simple `tfidf` function"
   ]
  },
  {
   "cell_type": "code",
   "execution_count": 113,
   "metadata": {
    "collapsed": true
   },
   "outputs": [],
   "source": [
    "import numpy as np\n",
    "\n",
    "def tfidf(X):\n",
    "    idf = np.log((X.shape[0] + 1) * 1. / ((X > 0).sum(0)) + 1) + 1.\n",
    "    idf = sp.sparse.spdiags(np.array(idf)[0], diags=0, m=X.shape[1], n=X.shape[1])\n",
    "    X_tfidf =  X * idf\n",
    "    return X_tfidf"
   ]
  },
  {
   "cell_type": "code",
   "execution_count": 114,
   "metadata": {
    "collapsed": false
   },
   "outputs": [],
   "source": [
    "X_tfidf = tfidf(X)"
   ]
  },
  {
   "cell_type": "code",
   "execution_count": null,
   "metadata": {
    "collapsed": true
   },
   "outputs": [],
   "source": []
  },
  {
   "cell_type": "markdown",
   "metadata": {},
   "source": [
    "# SVD"
   ]
  },
  {
   "cell_type": "markdown",
   "metadata": {},
   "source": [
    "#### Aplying SVD just to look at singular values"
   ]
  },
  {
   "cell_type": "code",
   "execution_count": 115,
   "metadata": {
    "collapsed": true
   },
   "outputs": [],
   "source": [
    "import scipy.sparse.linalg\n",
    "U, S, Vt = sp.sparse.linalg.svds(X_tfidf, k=100)\n",
    "\n",
    "import numpy as np\n",
    "U = np.fliplr(U)\n",
    "S = S[::-1]\n",
    "Vt = Vt[::-1]"
   ]
  },
  {
   "cell_type": "markdown",
   "metadata": {},
   "source": [
    "## Barchart plotting function"
   ]
  },
  {
   "cell_type": "code",
   "execution_count": 116,
   "metadata": {
    "collapsed": true
   },
   "outputs": [],
   "source": [
    "import matplotlib.pyplot as plt\n",
    "%matplotlib inline\n",
    "plt.rcParams['figure.figsize'] = (18, 11)\n",
    "\n",
    "def barchart(y = [3, 10, 7, 5, 3, 4.5, 6, 8.1], log=False):\n",
    "    if log:\n",
    "        y=np.log(1 + y)\n",
    "    N = len(y)\n",
    "    x = range(N)\n",
    "    width = 1/1.5\n",
    "    plt.bar(x, y, width, color=\"blue\")\n",
    "\n",
    "    plt.show()"
   ]
  },
  {
   "cell_type": "markdown",
   "metadata": {},
   "source": [
    "#### Plotting singular values barchart"
   ]
  },
  {
   "cell_type": "code",
   "execution_count": 117,
   "metadata": {
    "collapsed": false
   },
   "outputs": [
    {
     "data": {
      "image/png": "[encoded data removed]",
      "text/plain": [
       "<matplotlib.figure.Figure at 0x7fe4e0122f90>"
      ]
     },
     "metadata": {},
     "output_type": "display_data"
    }
   ],
   "source": [
    "barchart(S)"
   ]
  },
  {
   "cell_type": "code",
   "execution_count": 118,
   "metadata": {
    "collapsed": false
   },
   "outputs": [
    {
     "data": {
      "image/png": "[encoded data removed]",
      "text/plain": [
       "<matplotlib.figure.Figure at 0x7fe4dfbdd850>"
      ]
     },
     "metadata": {},
     "output_type": "display_data"
    }
   ],
   "source": [
    "barchart(S[1:])"
   ]
  },
  {
   "cell_type": "code",
   "execution_count": null,
   "metadata": {
    "collapsed": true
   },
   "outputs": [],
   "source": []
  },
  {
   "cell_type": "markdown",
   "metadata": {},
   "source": [
    "# Results analysis"
   ]
  },
  {
   "cell_type": "markdown",
   "metadata": {},
   "source": [
    "#### Helper class to transforming SVD results back into terms of \"words\" and \"documents\""
   ]
  },
  {
   "cell_type": "code",
   "execution_count": 119,
   "metadata": {
    "collapsed": false
   },
   "outputs": [],
   "source": [
    "class LSAPrinter(object):\n",
    "    def __init__(self, U, S, Vt, id_token_dict):\n",
    "        self.U = U\n",
    "        self.Vt = Vt\n",
    "        self.S = S\n",
    "        self.US = self.U * self.S\n",
    "        self.id_token_dict = id_token_dict\n",
    "        \n",
    "    def _format_weighted_token(self, token, weight):\n",
    "        return '%+.2f*%s' % (weight, token)\n",
    "        \n",
    "    def _tokens_as_string(self, weigthed_tokens):\n",
    "        return ' '.join([self._format_weighted_token(self.id_token_dict[tw[0]], tw[1]) for tw in weigthed_tokens])\n",
    "        \n",
    "    def top_topic_tokens_as_string(self, topic_index, topn=10, sign=1.):\n",
    "        top_weighted_tokens = sorted(enumerate(self.Vt[topic_index]), key=lambda kv: -np.abs(kv[1]))[:topn]\n",
    "        top_weighted_tokens = [(tw[0], tw[1] * sign) for tw in top_weighted_tokens]\n",
    "        return ' '.join([self._format_weighted_token(self.id_token_dict[tw[0]], tw[1]) for tw in top_weighted_tokens])\n",
    "        \n",
    "    def top_positive_topic_tokens_as_string(self, topic_index, topn=10):\n",
    "        top_weighted_tokens = sorted(enumerate(self.Vt[topic_index]), key=lambda kv: -kv[1])\n",
    "        top_weighted_tokens = filter(lambda kv: kv[1] > 0, top_weighted_tokens)\n",
    "        top_weighted_tokens = top_weighted_tokens[:topn]\n",
    "        return self._tokens_as_string(top_weighted_tokens)\n",
    "        \n",
    "    def top_negative_topic_tokens_as_string(self, topic_index, topn=10, sign=1.):\n",
    "        top_weighted_tokens = sorted(enumerate(self.Vt[topic_index]), key=lambda kv: +kv[1])\n",
    "        top_weighted_tokens = filter(lambda kv: kv[1] < 0, top_weighted_tokens)\n",
    "        top_weighted_tokens = top_weighted_tokens[:topn]\n",
    "        return self._tokens_as_string(top_weighted_tokens)\n",
    "        \n",
    "    def top_topic_tokens(self, topic_index, topn=10):\n",
    "        top_weighted_tokens = sorted(enumerate(self.Vt[topic_index]), key=lambda kv: -np.abs(kv[1]))[:topn]\n",
    "        if top_weighted_tokens[0][1] < 0:\n",
    "            top_weighted_tokens = [(tw[0], tw[1] * -1.) for tw in top_weighted_tokens]\n",
    "        return [(self.id_token_dict[tw[0]], tw[1]) for tw in top_weighted_tokens]\n",
    "    \n",
    "    def top_topic_docs_indexes(self, topic_index, topn=10, reverse=False):\n",
    "        x = self.US[:, topic_index]\n",
    "        return [kv[0] for kv in sorted(enumerate(x), key=lambda kv: -kv[1], reverse=reverse)[:topn]]"
   ]
  },
  {
   "cell_type": "code",
   "execution_count": 145,
   "metadata": {
    "collapsed": true
   },
   "outputs": [],
   "source": [
    "U, S, Vt = sp.sparse.linalg.svds(X_tfidf, k=50)\n",
    "U = np.fliplr(U)\n",
    "S = S[::-1]\n",
    "Vt = Vt[::-1]\n",
    "\n",
    "lsa_printer = LSAPrinter(U, S, Vt, doc2vec.id_token_dict)"
   ]
  },
  {
   "cell_type": "markdown",
   "metadata": {},
   "source": [
    "### Helper function to describe topic"
   ]
  },
  {
   "cell_type": "code",
   "execution_count": 131,
   "metadata": {
    "collapsed": true
   },
   "outputs": [],
   "source": [
    "W_top = 20\n",
    "C_top = 15\n",
    "\n",
    "def describe_topic(topic_index):\n",
    "    print 'Top %d positive words: %s' % (W_top, lsa_printer.top_positive_topic_tokens_as_string(topic_index, W_top))\n",
    "    print\n",
    "    print 'Top %d negative words: %s' % (W_top, lsa_printer.top_negative_topic_tokens_as_string(topic_index, W_top))\n",
    "    print \n",
    "    print 'Top chapters positive:'\n",
    "    for doc_ind in lsa_printer.top_topic_docs_indexes(topic_index, C_top, reverse=False):\n",
    "        if len(docs[doc_ind]) > 1:\n",
    "            book_chapter = book_chapters_list[doc_ind]\n",
    "            print 'Book %d, Chapter %d, %s' % (book_chapter[0], book_chapter[1], book_chapter[2][0].encode('utf-8'))\n",
    "    print \n",
    "    print 'Top chapters negative:'\n",
    "    for doc_ind in lsa_printer.top_topic_docs_indexes(topic_index, C_top, reverse=True):\n",
    "        if len(docs[doc_ind]) > 1:\n",
    "            book_chapter = book_chapters_list[doc_ind]\n",
    "            print 'Book %d, Chapter %d, %s' % (book_chapter[0], book_chapter[1], book_chapter[2][0].encode('utf-8'))"
   ]
  },
  {
   "cell_type": "code",
   "execution_count": null,
   "metadata": {
    "collapsed": true
   },
   "outputs": [],
   "source": []
  },
  {
   "cell_type": "markdown",
   "metadata": {},
   "source": [
    "## Topics top positive/negative words and chapters"
   ]
  },
  {
   "cell_type": "markdown",
   "metadata": {},
   "source": [
    "### Topic 0"
   ]
  },
  {
   "cell_type": "code",
   "execution_count": 132,
   "metadata": {
    "collapsed": false
   },
   "outputs": [
    {
     "name": "stdout",
     "output_type": "stream",
     "text": [
      "Top 20 positive words: \n",
      "\n",
      "Top 20 negative words: -0.30*был -0.24*лорд -0.21*сказа -0.19*сир -0.15*джон -0.15*тирион -0.14*рук -0.12*корол -0.11*больш -0.10*нег -0.10*говор -0.10*нет -0.10*глаз -0.09*брат -0.09*джейм -0.09*над -0.09*под -0.09*меч -0.08*черн -0.08*сэм\n",
      "\n",
      "Top chapters positive:\n",
      "Book 2, Chapter 0, По поводу хронологии\n",
      "Book 2, Chapter 53, Арья\n",
      "Book 2, Chapter 59, Тирион\n",
      "Book 0, Chapter 17, Бран\n",
      "Book 2, Chapter 51, Арья\n",
      "Book 1, Chapter 1, Арья\n",
      "Book 2, Chapter 17, Санса\n",
      "Book 5, Chapter 23, Отвергнутый жених\n",
      "Book 0, Chapter 2, Кейтилин\n",
      "Book 1, Chapter 59, Тирион\n",
      "Book 1, Chapter 9, Арья\n",
      "Book 2, Chapter 31, Джон\n",
      "Book 1, Chapter 60, Санса\n",
      "Book 0, Chapter 10, Джон\n",
      "Book 1, Chapter 26, Арья\n",
      "\n",
      "Top chapters negative:\n",
      "Book 1, Chapter 0, Пролог\n",
      "Book 3, Chapter 41, Алейна\n",
      "Book 2, Chapter 61, Тирион\n",
      "Book 2, Chapter 20, Тирион\n",
      "Book 0, Chapter 62, Тирион\n",
      "Book 1, Chapter 23, Джон\n",
      "Book 3, Chapter 27, Джейме\n",
      "Book 0, Chapter 30, Эддард\n",
      "Book 1, Chapter 42, Давос\n",
      "Book 0, Chapter 34, Кейтилин\n",
      "Book 1, Chapter 11, Теон\n",
      "Book 3, Chapter 24, Серсея\n",
      "Book 1, Chapter 22, Кейтилин\n",
      "Book 2, Chapter 57, Бран\n",
      "Book 2, Chapter 69, Санса\n"
     ]
    }
   ],
   "source": [
    "describe_topic(0)"
   ]
  },
  {
   "cell_type": "markdown",
   "metadata": {},
   "source": [
    "### Topic 1"
   ]
  },
  {
   "cell_type": "code",
   "execution_count": 141,
   "metadata": {
    "collapsed": false
   },
   "outputs": [
    {
     "name": "stdout",
     "output_type": "stream",
     "text": [
      "Top 20 positive words: +0.52*джон +0.47*сэм +0.12*лилл +0.11*одичал +0.11*крастер +0.10*стен +0.09*дозор +0.09*бран +0.09*манс +0.09*грен +0.09*сно +0.09*ворон +0.08*эйемон +0.08*черн +0.07*мормонт +0.07*тормунд +0.07*игритт +0.06*пип +0.06*снег +0.06*призрак\n",
      "\n",
      "Top 20 negative words: -0.30*тирион -0.16*сир -0.14*джейм -0.10*санс -0.09*серсе -0.09*бриен -0.07*рыцар -0.06*джоффр -0.06*лорд -0.06*золот -0.06*кейтилин -0.05*давос -0.05*тайвин -0.05*королев -0.04*маргер -0.04*ланнистер -0.04*лед -0.04*роберт -0.04*карлик -0.04*тирелл\n",
      "\n",
      "Top chapters positive:\n",
      "Book 3, Chapter 5, Сэмвел\n",
      "Book 2, Chapter 19, Сэмвел\n",
      "Book 1, Chapter 23, Джон\n",
      "Book 2, Chapter 34, Сэмвел\n",
      "Book 4, Chapter 7, Джон\n",
      "Book 0, Chapter 52, Джон\n",
      "Book 3, Chapter 26, Сэмвел\n",
      "Book 2, Chapter 47, Сэмвел\n",
      "Book 2, Chapter 16, Джон\n",
      "Book 2, Chapter 76, Сэмвел\n",
      "Book 0, Chapter 26, Джон\n",
      "Book 2, Chapter 56, Джон\n",
      "Book 0, Chapter 70, Джон\n",
      "Book 2, Chapter 74, Джон\n",
      "Book 3, Chapter 15, Сэмвел\n",
      "\n",
      "Top chapters negative:\n",
      "Book 2, Chapter 61, Тирион\n",
      "Book 0, Chapter 62, Тирион\n",
      "Book 2, Chapter 67, Тирион\n",
      "Book 2, Chapter 20, Тирион\n",
      "Book 1, Chapter 41, Тирион\n",
      "Book 0, Chapter 38, Тирион\n",
      "Book 1, Chapter 3, Тирион\n",
      "Book 0, Chapter 31, Тирион\n",
      "Book 3, Chapter 27, Джейме\n",
      "Book 4, Chapter 27, Тирион\n",
      "Book 2, Chapter 68, Джейме\n",
      "Book 3, Chapter 24, Серсея\n",
      "Book 4, Chapter 22, Тирион\n",
      "Book 2, Chapter 5, Тирион\n",
      "Book 1, Chapter 17, Тирион\n"
     ]
    }
   ],
   "source": [
    "describe_topic(1)"
   ]
  },
  {
   "cell_type": "markdown",
   "metadata": {},
   "source": [
    "### Topic 2"
   ]
  },
  {
   "cell_type": "code",
   "execution_count": 140,
   "metadata": {
    "collapsed": false
   },
   "outputs": [
    {
     "name": "stdout",
     "output_type": "stream",
     "text": [
      "Top 20 positive words: +0.66*тирион +0.16*сэм +0.15*джон +0.08*брон +0.08*карлик +0.05*серсе +0.05*тайвин +0.05*варис +0.05*грифф +0.05*санс +0.05*джоффр +0.04*милорд +0.04*шагг +0.04*лилл +0.04*крастер +0.04*мормонт +0.04*джейм +0.04*ланнистер +0.04*хелдон +0.03*отец\n",
      "\n",
      "Top 20 negative words: -0.48*давос -0.15*ден -0.09*бран -0.09*станнис -0.08*корол -0.08*теон -0.06*дракон -0.06*мелисандр -0.06*бриен -0.06*ходор -0.06*корабл -0.05*виктарион -0.05*салладор -0.05*дрог -0.05*мор -0.05*пилос -0.05*кресс -0.05*кхал -0.04*контрабандист -0.04*величеств\n",
      "\n",
      "Top chapters positive:\n",
      "Book 0, Chapter 62, Тирион\n",
      "Book 2, Chapter 61, Тирион\n",
      "Book 0, Chapter 38, Тирион\n",
      "Book 0, Chapter 31, Тирион\n",
      "Book 2, Chapter 67, Тирион\n",
      "Book 0, Chapter 21, Тирион\n",
      "Book 4, Chapter 1, Тирион\n",
      "Book 1, Chapter 3, Тирион\n",
      "Book 4, Chapter 27, Тирион\n",
      "Book 4, Chapter 22, Тирион\n",
      "Book 2, Chapter 33, Тирион\n",
      "Book 0, Chapter 42, Тирион\n",
      "Book 4, Chapter 14, Тирион\n",
      "Book 2, Chapter 13, Тирион\n",
      "Book 1, Chapter 25, Тирион\n",
      "\n",
      "Top chapters negative:\n",
      "Book 1, Chapter 42, Давос\n",
      "Book 1, Chapter 58, Давос\n",
      "Book 1, Chapter 10, Давос\n",
      "Book 2, Chapter 11, Давос\n",
      "Book 2, Chapter 37, Давос\n",
      "Book 2, Chapter 55, Давос\n",
      "Book 1, Chapter 0, Пролог\n",
      "Book 2, Chapter 64, Давос\n",
      "Book 2, Chapter 26, Давос\n",
      "Book 4, Chapter 15, Давос\n",
      "Book 4, Chapter 9, Давос\n",
      "Book 4, Chapter 29, Давос\n",
      "Book 2, Chapter 6, Давос\n",
      "Book 4, Chapter 19, Давос\n",
      "Book 3, Chapter 29, Флотоводец\n"
     ]
    }
   ],
   "source": [
    "describe_topic(2)"
   ]
  },
  {
   "cell_type": "markdown",
   "metadata": {},
   "source": [
    "### Topic 3"
   ]
  },
  {
   "cell_type": "code",
   "execution_count": 139,
   "metadata": {
    "collapsed": false
   },
   "outputs": [
    {
     "name": "stdout",
     "output_type": "stream",
     "text": [
      "Top 20 positive words: +0.29*лорд +0.18*давос +0.18*кейтилин +0.12*джон +0.12*алейн +0.11*джейм +0.10*нед +0.10*робб +0.10*санс +0.08*станнис +0.08*бриен +0.08*лед +0.08*петир +0.08*корол +0.07*роберт +0.07*лиз +0.06*фре +0.06*милорд +0.06*теон +0.06*эдмар\n",
      "\n",
      "Top 20 negative words: -0.46*ден -0.16*дрог -0.16*кхал -0.16*дракон -0.12*джор -0.11*раб -0.10*гиздар -0.09*даар -0.09*миэрин -0.09*визерис -0.09*город -0.09*кхалис -0.08*бельвас -0.08*безупречн -0.08*тирион -0.08*сэм -0.08*астапор -0.07*иллир -0.07*дейенерис -0.07*дотракийц\n",
      "\n",
      "Top chapters positive:\n",
      "Book 3, Chapter 41, Алейна\n",
      "Book 3, Chapter 23, Алейна\n",
      "Book 3, Chapter 10, Санса\n",
      "Book 1, Chapter 42, Давос\n",
      "Book 0, Chapter 59, Кейтилин\n",
      "Book 0, Chapter 34, Кейтилин\n",
      "Book 2, Chapter 50, Кейтилин\n",
      "Book 1, Chapter 39, Кейтилин\n",
      "Book 0, Chapter 71, Кейтилин\n",
      "Book 2, Chapter 20, Тирион\n",
      "Book 2, Chapter 81, Санса\n",
      "Book 2, Chapter 36, Кейтилин\n",
      "Book 2, Chapter 37, Давос\n",
      "Book 1, Chapter 22, Кейтилин\n",
      "Book 4, Chapter 19, Давос\n",
      "\n",
      "Top chapters negative:\n",
      "Book 0, Chapter 64, Дейенерис\n",
      "Book 2, Chapter 24, Дейенерис\n",
      "Book 2, Chapter 72, Дейенерис\n",
      "Book 2, Chapter 43, Дейенерис\n",
      "Book 2, Chapter 58, Дейенерис\n",
      "Book 4, Chapter 2, Дейенерис\n",
      "Book 4, Chapter 16, Дейенерис\n",
      "Book 0, Chapter 46, Дейенерис\n",
      "Book 0, Chapter 23, Дейенерис\n",
      "Book 2, Chapter 9, Дейенерис\n",
      "Book 0, Chapter 68, Дейенерис\n",
      "Book 1, Chapter 12, Дейенерис\n",
      "Book 2, Chapter 28, Дейенерис\n",
      "Book 0, Chapter 61, Дейенерис\n",
      "Book 5, Chapter 34, Дейенерис\n"
     ]
    }
   ],
   "source": [
    "describe_topic(3)"
   ]
  },
  {
   "cell_type": "markdown",
   "metadata": {},
   "source": [
    "### Topic 4"
   ]
  },
  {
   "cell_type": "code",
   "execution_count": 138,
   "metadata": {
    "collapsed": false
   },
   "outputs": [
    {
     "name": "stdout",
     "output_type": "stream",
     "text": [
      "Top 20 positive words: +0.56*давос +0.25*тирион +0.23*сэм +0.15*станнис +0.09*мелисандр +0.08*корол +0.07*корабл +0.06*лилл +0.06*салладор +0.05*дракон +0.05*пилос +0.05*акселл +0.05*контрабандист +0.05*кресс +0.04*величеств +0.04*саа +0.04*крастер +0.04*королев +0.04*красн +0.04*штормов\n",
      "\n",
      "Top 20 negative words: -0.40*бран -0.23*ходор -0.15*кейтилин -0.14*робб -0.13*теон -0.11*бриен -0.10*жой -0.08*лювин -0.06*санс -0.06*уолдер -0.06*мир -0.06*винтерфелл -0.06*был -0.06*волк -0.06*сказа -0.06*лет -0.05*нед -0.05*алейн -0.05*родрик -0.05*джейм\n",
      "\n",
      "Top chapters positive:\n",
      "Book 1, Chapter 42, Давос\n",
      "Book 1, Chapter 58, Давос\n",
      "Book 1, Chapter 10, Давос\n",
      "Book 2, Chapter 11, Давос\n",
      "Book 2, Chapter 37, Давос\n",
      "Book 2, Chapter 55, Давос\n",
      "Book 2, Chapter 64, Давос\n",
      "Book 2, Chapter 26, Давос\n",
      "Book 4, Chapter 15, Давос\n",
      "Book 1, Chapter 0, Пролог\n",
      "Book 4, Chapter 9, Давос\n",
      "Book 2, Chapter 6, Давос\n",
      "Book 3, Chapter 5, Сэмвел\n",
      "Book 4, Chapter 29, Давос\n",
      "Book 3, Chapter 26, Сэмвел\n",
      "\n",
      "Top chapters negative:\n",
      "Book 2, Chapter 57, Бран\n",
      "Book 0, Chapter 37, Бран\n",
      "Book 0, Chapter 53, Бран\n",
      "Book 1, Chapter 16, Бран\n",
      "Book 0, Chapter 24, Бран\n",
      "Book 4, Chapter 34, Бран\n",
      "Book 2, Chapter 41, Бран\n",
      "Book 1, Chapter 69, Бран\n",
      "Book 2, Chapter 10, Бран\n",
      "Book 4, Chapter 13, Бран\n",
      "Book 1, Chapter 28, Бран\n",
      "Book 2, Chapter 25, Бран\n",
      "Book 0, Chapter 8, Бран\n",
      "Book 0, Chapter 14, Кейтилин\n",
      "Book 1, Chapter 4, Бран\n"
     ]
    }
   ],
   "source": [
    "describe_topic(4)"
   ]
  },
  {
   "cell_type": "markdown",
   "metadata": {},
   "source": [
    "### Topic 5"
   ]
  },
  {
   "cell_type": "code",
   "execution_count": 137,
   "metadata": {
    "collapsed": false
   },
   "outputs": [
    {
     "name": "stdout",
     "output_type": "stream",
     "text": [
      "Top 20 positive words: +0.43*бран +0.37*тирион +0.28*давос +0.27*ходор +0.13*теон +0.13*жой +0.08*лювин +0.07*мир +0.07*робб +0.06*лет +0.06*мейстер +0.05*станнис +0.05*волк +0.04*винтерфелл +0.04*карлик +0.04*грифф +0.04*виктарион +0.04*родрик +0.04*нэн +0.04*дерев\n",
      "\n",
      "Top 20 negative words: -0.31*бриен -0.26*джейм -0.19*сир -0.17*сэм -0.12*санс -0.09*алейн -0.08*ден -0.06*серсе -0.06*джон -0.06*кейтилин -0.05*петир -0.04*милед -0.04*величеств -0.04*нед -0.04*рыцар -0.04*лилл -0.04*роберт -0.04*королев -0.04*крейтон -0.04*маргер\n",
      "\n",
      "Top chapters positive:\n",
      "Book 2, Chapter 57, Бран\n",
      "Book 0, Chapter 24, Бран\n",
      "Book 0, Chapter 53, Бран\n",
      "Book 2, Chapter 41, Бран\n",
      "Book 0, Chapter 37, Бран\n",
      "Book 1, Chapter 16, Бран\n",
      "Book 4, Chapter 34, Бран\n",
      "Book 1, Chapter 69, Бран\n",
      "Book 4, Chapter 13, Бран\n",
      "Book 0, Chapter 62, Тирион\n",
      "Book 2, Chapter 10, Бран\n",
      "Book 1, Chapter 58, Давос\n",
      "Book 1, Chapter 28, Бран\n",
      "Book 2, Chapter 25, Бран\n",
      "Book 2, Chapter 11, Давос\n",
      "\n",
      "Top chapters negative:\n",
      "Book 3, Chapter 4, Бриенна\n",
      "Book 3, Chapter 9, Бриенна\n",
      "Book 3, Chapter 20, Бриенна\n",
      "Book 3, Chapter 27, Джейме\n",
      "Book 3, Chapter 14, Бриенна\n",
      "Book 3, Chapter 41, Алейна\n",
      "Book 3, Chapter 42, Бриенна\n",
      "Book 2, Chapter 45, Джейме\n",
      "Book 2, Chapter 68, Джейме\n",
      "Book 3, Chapter 33, Джейме\n",
      "Book 2, Chapter 2, Джейме\n",
      "Book 2, Chapter 12, Джейме\n",
      "Book 2, Chapter 63, Джейме\n",
      "Book 3, Chapter 37, Бриенна\n",
      "Book 2, Chapter 38, Джейме\n"
     ]
    }
   ],
   "source": [
    "describe_topic(5)"
   ]
  },
  {
   "cell_type": "markdown",
   "metadata": {},
   "source": [
    "### Topic 6"
   ]
  },
  {
   "cell_type": "code",
   "execution_count": 136,
   "metadata": {
    "collapsed": false
   },
   "outputs": [
    {
     "name": "stdout",
     "output_type": "stream",
     "text": [
      "Top 20 positive words: +0.52*джон +0.11*тормунд +0.10*игритт +0.10*ден +0.10*манс +0.10*одичал +0.07*сно +0.06*призрак +0.05*куор +0.05*алейн +0.05*нед +0.05*стен +0.04*ной +0.04*гремуч +0.04*дрог +0.04*магнар +0.04*кхал +0.04*королев +0.04*корол +0.04*мамонт\n",
      "\n",
      "Top 20 negative words: -0.61*сэм -0.19*бран -0.17*лилл -0.14*бриен -0.13*ходор -0.12*джейм -0.07*жой -0.07*дареон -0.07*крастер -0.06*мейстер -0.06*паул -0.04*смертоносн -0.04*теон -0.04*ксонд -0.04*эйемон -0.03*лет -0.03*мир -0.03*грен -0.03*лювин -0.03*старомест\n",
      "\n",
      "Top chapters positive:\n",
      "Book 2, Chapter 16, Джон\n",
      "Book 2, Chapter 74, Джон\n",
      "Book 2, Chapter 56, Джон\n",
      "Book 5, Chapter 16, Джон\n",
      "Book 2, Chapter 42, Джон\n",
      "Book 5, Chapter 21, Джон\n",
      "Book 2, Chapter 8, Джон\n",
      "Book 0, Chapter 19, Джон\n",
      "Book 2, Chapter 70, Джон\n",
      "Book 2, Chapter 65, Джон\n",
      "Book 2, Chapter 27, Джон\n",
      "Book 1, Chapter 68, Джон\n",
      "Book 0, Chapter 52, Джон\n",
      "Book 5, Chapter 32, Джон\n",
      "Book 0, Chapter 5, Джон\n",
      "\n",
      "Top chapters negative:\n",
      "Book 2, Chapter 19, Сэмвел\n",
      "Book 3, Chapter 26, Сэмвел\n",
      "Book 2, Chapter 47, Сэмвел\n",
      "Book 2, Chapter 34, Сэмвел\n",
      "Book 3, Chapter 5, Сэмвел\n",
      "Book 3, Chapter 35, Сэмвел\n",
      "Book 3, Chapter 45, Сэмвел\n",
      "Book 3, Chapter 15, Сэмвел\n",
      "Book 2, Chapter 57, Бран\n",
      "Book 2, Chapter 76, Сэмвел\n",
      "Book 2, Chapter 79, Сэмвел\n",
      "Book 1, Chapter 16, Бран\n",
      "Book 2, Chapter 41, Бран\n",
      "Book 4, Chapter 13, Бран\n",
      "Book 4, Chapter 34, Бран\n"
     ]
    }
   ],
   "source": [
    "describe_topic(6)"
   ]
  },
  {
   "cell_type": "markdown",
   "metadata": {},
   "source": [
    "### Topic 7"
   ]
  },
  {
   "cell_type": "code",
   "execution_count": 135,
   "metadata": {
    "collapsed": false
   },
   "outputs": [
    {
     "name": "stdout",
     "output_type": "stream",
     "text": [
      "Top 20 positive words: +0.39*бриен +0.32*джейм +0.11*джон +0.07*меч +0.07*тирион +0.06*сир +0.06*подрик +0.05*давос +0.05*женщин +0.05*клеос +0.05*крэб +0.05*дик +0.04*хил +0.04*бран +0.04*крейтон +0.04*одичал +0.04*манс +0.04*тормунд +0.04*стен +0.03*игритт\n",
      "\n",
      "Top 20 negative words: -0.44*алейн -0.29*санс -0.23*петир -0.15*сэм -0.14*лиз -0.14*лорд -0.12*роберт -0.12*миранд -0.11*нестор -0.10*ден -0.08*гнезд -0.07*зяблик -0.07*уэйнвуд -0.07*лед -0.07*лотор -0.07*нед -0.07*мул -0.07*мариллон -0.06*гретчел -0.06*мадд\n",
      "\n",
      "Top chapters positive:\n",
      "Book 3, Chapter 20, Бриенна\n",
      "Book 3, Chapter 9, Бриенна\n",
      "Book 3, Chapter 4, Бриенна\n",
      "Book 2, Chapter 45, Джейме\n",
      "Book 3, Chapter 27, Джейме\n",
      "Book 2, Chapter 2, Джейме\n",
      "Book 3, Chapter 42, Бриенна\n",
      "Book 3, Chapter 14, Бриенна\n",
      "Book 2, Chapter 12, Джейме\n",
      "Book 2, Chapter 22, Джейме\n",
      "Book 3, Chapter 37, Бриенна\n",
      "Book 2, Chapter 32, Джейме\n",
      "Book 2, Chapter 38, Джейме\n",
      "Book 3, Chapter 25, Бриенна\n",
      "Book 2, Chapter 63, Джейме\n",
      "\n",
      "Top chapters negative:\n",
      "Book 3, Chapter 41, Алейна\n",
      "Book 3, Chapter 23, Алейна\n",
      "Book 3, Chapter 10, Санса\n",
      "Book 2, Chapter 69, Санса\n",
      "Book 2, Chapter 81, Санса\n",
      "Book 0, Chapter 15, Санса\n",
      "Book 2, Chapter 7, Санса\n",
      "Book 0, Chapter 51, Санса\n",
      "Book 2, Chapter 29, Санса\n",
      "Book 0, Chapter 34, Кейтилин\n",
      "Book 3, Chapter 26, Сэмвел\n",
      "Book 3, Chapter 5, Сэмвел\n",
      "Book 2, Chapter 19, Сэмвел\n",
      "Book 0, Chapter 44, Санса\n",
      "Book 2, Chapter 47, Сэмвел\n"
     ]
    }
   ],
   "source": [
    "describe_topic(7)"
   ]
  },
  {
   "cell_type": "code",
   "execution_count": null,
   "metadata": {
    "collapsed": true
   },
   "outputs": [],
   "source": []
  },
  {
   "cell_type": "markdown",
   "metadata": {},
   "source": [
    "## First 50 topics top words"
   ]
  },
  {
   "cell_type": "code",
   "execution_count": 149,
   "metadata": {
    "collapsed": false
   },
   "outputs": [
    {
     "name": "stdout",
     "output_type": "stream",
     "text": [
      "Topic #0: +0.30*был +0.24*лорд +0.21*сказа +0.19*сир +0.15*джон +0.15*тирион +0.14*рук +0.12*корол +0.11*больш +0.10*нег +0.10*говор +0.10*нет +0.10*глаз +0.09*брат +0.09*джейм +0.09*над +0.09*под +0.09*меч +0.08*черн +0.08*сэм\n",
      "\n",
      "Topic #1: -0.52*джон -0.47*сэм +0.30*тирион +0.16*сир +0.14*джейм -0.12*лилл -0.11*одичал -0.11*крастер +0.10*санс -0.10*стен -0.09*дозор -0.09*бран -0.09*манс -0.09*грен -0.09*сно +0.09*серсе -0.09*ворон +0.09*бриен -0.08*эйемон -0.08*черн\n",
      "\n",
      "Topic #2: -0.66*тирион +0.48*давос -0.16*сэм -0.15*джон +0.15*ден +0.09*бран +0.09*станнис -0.08*брон -0.08*карлик +0.08*корол +0.08*теон +0.06*дракон +0.06*мелисандр +0.06*бриен +0.06*ходор +0.06*корабл +0.05*виктарион +0.05*салладор -0.05*серсе -0.05*тайвин\n",
      "\n",
      "Topic #3: -0.46*ден +0.29*лорд +0.18*давос +0.18*кейтилин -0.16*дрог -0.16*кхал -0.16*дракон +0.12*джон +0.12*алейн -0.12*джор -0.11*раб +0.11*джейм -0.10*гиздар +0.10*нед +0.10*робб +0.10*санс -0.09*даар -0.09*миэрин -0.09*визерис -0.09*город\n",
      "\n",
      "Topic #4: -0.56*давос +0.40*бран -0.25*тирион -0.23*сэм +0.23*ходор -0.15*станнис +0.15*кейтилин +0.14*робб +0.13*теон +0.11*бриен +0.10*жой -0.09*мелисандр -0.08*корол +0.08*лювин -0.07*корабл -0.06*лилл -0.06*салладор +0.06*санс +0.06*уолдер +0.06*мир\n",
      "\n",
      "Topic #5: +0.43*бран +0.37*тирион -0.31*бриен +0.28*давос +0.27*ходор -0.26*джейм -0.19*сир -0.17*сэм +0.13*теон +0.13*жой -0.12*санс -0.09*алейн -0.08*ден +0.08*лювин +0.07*мир +0.07*робб -0.06*серсе -0.06*джон +0.06*лет -0.06*кейтилин\n",
      "\n",
      "Topic #6: +0.61*сэм -0.52*джон +0.19*бран +0.17*лилл +0.14*бриен +0.13*ходор +0.12*джейм -0.11*тормунд -0.10*игритт -0.10*ден -0.10*манс -0.10*одичал -0.07*сно +0.07*жой +0.07*дареон +0.07*крастер +0.06*мейстер -0.06*призрак +0.06*паул -0.05*куор\n",
      "\n",
      "Topic #7: -0.44*алейн +0.39*бриен +0.32*джейм -0.29*санс -0.23*петир -0.15*сэм -0.14*лиз -0.14*лорд -0.12*роберт -0.12*миранд -0.11*нестор +0.11*джон -0.10*ден -0.08*гнезд -0.07*зяблик -0.07*уэйнвуд -0.07*лед -0.07*лотор -0.07*нед -0.07*мул\n",
      "\n",
      "Topic #8: +0.45*теон +0.35*виктарион -0.28*бран -0.19*ходор -0.18*давос +0.18*эурон +0.17*вонючк +0.17*эйерон -0.17*санс +0.15*рамс -0.13*сир +0.13*лорд +0.11*бейлон +0.10*железн -0.10*жой +0.09*мор +0.09*утонувш +0.08*морск -0.08*бриен -0.08*джон\n",
      "\n",
      "Topic #9: +0.39*кейтилин +0.34*нед -0.31*бриен -0.31*алейн +0.18*робб -0.17*санс +0.14*сэм -0.13*виктарион +0.11*корол -0.11*петир +0.11*ден +0.11*эдмар +0.09*сир +0.09*проговор +0.09*ланнистер -0.09*миранд +0.09*лорд +0.07*фре +0.07*сын +0.07*уолдер\n",
      "\n",
      "Topic #10: +0.33*бриен +0.32*кейтилин -0.26*серсе +0.19*тирион -0.17*королев -0.16*маргер +0.16*алейн -0.16*джейм -0.15*величеств +0.13*давос -0.13*санс +0.11*ден -0.11*томм -0.10*принц -0.10*корол -0.10*виктарион -0.10*бран +0.10*лиз +0.10*кхал +0.10*дрог\n",
      "\n",
      "Topic #11: +0.36*виктарион +0.34*санс -0.28*джейм -0.27*теон +0.24*нед -0.20*алейн -0.18*вонючк +0.17*эурон -0.15*рамс +0.15*бриен +0.15*корол +0.12*эйерон -0.12*лорд +0.11*кейтилин +0.10*джоффр -0.09*фре -0.09*ден -0.07*болтон +0.07*ренл +0.06*нут\n",
      "\n",
      "Topic #12: -0.45*санс -0.39*теон +0.30*виктарион +0.26*алейн +0.23*джейм -0.19*вонючк -0.17*рамс +0.14*эурон -0.14*джоффр +0.12*кейтилин +0.10*бран -0.08*был +0.08*эйерон +0.08*миранд +0.08*ходор -0.08*бриен +0.06*лорд -0.06*джейн +0.06*мул +0.06*ворон\n",
      "\n",
      "Topic #13: +0.33*джейм +0.30*нед -0.29*кейтилин -0.29*ариан -0.18*квентин -0.18*принц +0.16*кхал +0.16*дрог -0.13*робб +0.12*роберт -0.11*гаррин -0.11*арис -0.11*гиздар -0.10*обар -0.09*величеств -0.09*мирцелл +0.08*ден +0.08*джор -0.08*королев -0.08*дорн\n",
      "\n",
      "Topic #14: -0.53*нед +0.32*санс +0.18*кейтилин -0.17*ариан -0.17*роберт +0.16*робб -0.15*бриен +0.14*джейм +0.12*виктарион -0.12*алейн -0.12*квентин +0.11*ден +0.11*эдмар -0.11*принц +0.10*фре +0.09*дрог +0.09*кхал +0.09*джоффр +0.08*уолдер -0.08*корол\n",
      "\n",
      "Topic #15: -0.35*ариан +0.27*бриен -0.27*джейм +0.16*величеств -0.15*принц -0.14*гаррин +0.14*серсе +0.14*королев -0.14*арис -0.12*мирцелл +0.11*маргер -0.11*принцесс -0.11*обар -0.11*был +0.10*лорд +0.10*гиздар +0.10*корол -0.09*дрю +0.09*станнис +0.09*бран\n",
      "\n",
      "Topic #16: -0.24*ариан -0.22*кхал -0.22*дрог -0.21*бриен +0.16*джендр -0.14*теон +0.14*гиздар +0.13*джейм +0.12*пирожок -0.12*серсе +0.11*четт +0.10*санс +0.10*нед +0.10*барриста -0.10*принцесс -0.09*арис -0.09*гаррин -0.09*джон +0.09*лим +0.08*ломм\n",
      "\n",
      "Topic #17: -0.34*теон -0.24*джейм +0.23*вонючк +0.20*пейт +0.17*джендр -0.17*гиздар -0.15*санс +0.15*серсе -0.14*сир -0.13*барриста +0.13*пирожок +0.12*рамс +0.12*лорд -0.11*джон +0.10*лим +0.10*маргер +0.10*молландер +0.10*кхал +0.10*дрог -0.09*даар\n",
      "\n",
      "Topic #18: +0.48*вонючк -0.33*теон +0.30*рамс -0.22*пейт +0.18*лорд +0.16*виктарион -0.12*серсе -0.11*молландер -0.11*кейтилин -0.09*армин -0.09*маргер -0.08*аллерас +0.08*сир +0.08*ариан +0.08*болтон -0.07*грифф +0.07*ходор +0.07*уолдер +0.07*гиздар +0.07*млорд\n",
      "\n",
      "Topic #19: +0.39*пейт -0.30*четт +0.20*молландер +0.18*джейм +0.17*армин +0.16*санс +0.15*аллерас -0.15*сир +0.14*дракон -0.13*джендр +0.13*грифф -0.12*серсе +0.11*вонючк -0.11*пирожок +0.11*джон +0.10*валгрейв +0.10*архимейстер +0.09*мейстер +0.09*сфинкс -0.09*крастер\n",
      "\n",
      "Topic #20: +0.40*четт +0.36*пейт -0.32*грифф +0.18*молландер -0.17*хелдон +0.15*армин +0.15*сир +0.12*аллерас -0.10*утк -0.09*яндр +0.09*валгрейв -0.09*лемор +0.08*ларк -0.08*иллир -0.08*кет -0.08*джендр -0.08*стрикленд +0.07*ворон +0.07*архимейстер +0.07*алхимик\n",
      "\n",
      "Topic #21: +0.51*четт +0.38*грифф +0.19*хелдон -0.17*джендр -0.14*пирожок +0.12*крастер +0.11*ларк +0.10*утк +0.10*яндр +0.10*нед +0.10*лемор -0.10*ломм +0.10*стрикленд +0.10*иллир +0.09*санс +0.08*смолвуд +0.08*гарр -0.08*лим -0.08*йор +0.07*паул\n",
      "\n",
      "Topic #22: -0.27*лорд +0.26*вонючк +0.22*кейтилин -0.17*кресс +0.16*рамс +0.15*серсе -0.14*станнис +0.14*давос +0.12*пейт -0.12*джендр +0.12*маргер -0.11*мейстер -0.10*лим -0.10*пилос +0.10*виктарион -0.10*милорд -0.09*сказа -0.09*меррет +0.09*королев -0.09*эйерон\n",
      "\n",
      "Topic #23: +0.33*варамир -0.22*сир +0.19*хаггон -0.16*грифф -0.14*джендр +0.14*кет +0.14*кейтилин +0.14*лиз +0.13*манс +0.13*джейм -0.13*пейт +0.13*тормунд -0.12*меч +0.12*кресс -0.11*робб -0.11*джон -0.11*пирожок +0.10*снег -0.10*рыцар +0.09*колючк\n",
      "\n",
      "Topic #24: +0.35*варамир +0.20*хаггон +0.18*сир +0.16*манс +0.15*корол -0.15*кет +0.14*тормунд +0.14*грифф -0.14*джон -0.14*четт +0.11*рыцар +0.11*кхал +0.11*дрог -0.10*мормонт +0.10*колючк +0.09*гиздар -0.09*кразнис -0.09*крастер -0.09*ариан +0.08*снег\n",
      "\n",
      "Topic #25: +0.30*кресс +0.25*мейстер +0.20*квентин -0.19*нед +0.17*пилос +0.15*станнис -0.13*варамир -0.13*давос -0.12*ариан +0.12*геррис +0.12*пестряк -0.11*ден +0.11*уилл -0.11*робб +0.10*лиз -0.10*меррет +0.09*гиздар -0.09*фре -0.09*пейт +0.09*кейтилин\n",
      "\n",
      "Topic #26: -0.47*квентин -0.27*геррис +0.17*сир -0.15*кхал -0.14*дрог +0.12*ариан +0.12*грифф -0.12*здоровяк -0.11*лорд -0.11*меррет -0.10*мерис +0.09*станнис +0.09*рыцар +0.09*кразнис -0.09*лягух -0.09*крастер +0.08*ренл +0.08*кресс -0.08*давос +0.08*ден\n",
      "\n",
      "Topic #27: +0.32*варамир +0.28*робб -0.26*ходор -0.21*жой +0.20*хаггон -0.19*лиз +0.17*мейстер +0.13*алейн +0.13*кресс +0.13*бран -0.12*мир +0.11*лювин -0.11*эйерон -0.10*нестор -0.10*одичал +0.09*колючк +0.09*виктарион -0.09*петир -0.09*кейтилин +0.08*миранд\n",
      "\n",
      "Topic #28: +0.35*эйерон +0.29*кет -0.25*виктарион -0.14*теон +0.13*бог +0.13*сир +0.12*жрец +0.11*уилл -0.11*лиз +0.11*вонючк +0.10*корол +0.10*бруск +0.09*бейлон -0.09*лорд +0.09*урр +0.09*многолик +0.08*горольд +0.08*алейн +0.07*мокроголов +0.07*утонувш\n",
      "\n",
      "Topic #29: +0.33*уилл +0.23*лорд +0.21*гаред -0.18*алейн +0.17*варамир +0.16*ройс -0.15*кейтилин +0.14*петир +0.14*лиз +0.14*уэймар +0.14*сир -0.13*корол -0.13*миранд +0.13*нестор +0.11*кет -0.11*вонючк +0.11*грифф +0.11*хаггон -0.10*эйерон +0.10*меррет\n",
      "\n",
      "Topic #30: -0.30*эйерон +0.28*кет +0.22*сир +0.18*виктарион -0.15*крастер +0.11*тормунд -0.10*лиз +0.10*четт -0.09*давос +0.09*корабл +0.09*дареон +0.09*бруск -0.09*грифф +0.09*рыцар -0.08*мормонт -0.08*ден -0.08*гиздар -0.08*джейм +0.08*теон -0.08*варамир\n",
      "\n",
      "Topic #31: +0.40*уилл +0.26*гаред +0.20*крастер -0.18*гиздар +0.18*квентин +0.17*уэймар -0.17*четт +0.13*меррет +0.11*ройс -0.10*принц -0.10*барриста +0.10*геррис -0.10*обар -0.10*варамир +0.10*кразнис -0.10*кет -0.08*лорд -0.08*лиз +0.08*раб -0.08*резнак\n",
      "\n",
      "Topic #32: -0.24*гиздар -0.23*ариан +0.20*принц -0.20*крастер +0.17*обар +0.14*кразнис -0.14*гаррин -0.13*меррет +0.13*квентин +0.13*коп -0.13*барриста -0.12*виктарион +0.11*геррис +0.11*аре +0.10*оберин +0.10*арста +0.10*безупречн -0.10*резнак +0.09*капита -0.09*дрю\n",
      "\n",
      "Topic #33: -0.56*меррет -0.15*обар -0.15*принц +0.14*ариан +0.14*квентин -0.13*кресс +0.12*робб +0.11*лорд -0.11*уолдер +0.10*пирожок +0.09*гаррин -0.09*аре -0.09*оберин +0.09*джендр -0.09*был +0.08*ломм -0.08*разбойник +0.07*йор -0.07*клига +0.07*санс\n",
      "\n",
      "Topic #34: +0.42*крастер -0.30*меррет -0.16*четт +0.15*мормонт +0.14*принц +0.13*ходор +0.12*варамир -0.12*ариан -0.11*тормунд +0.11*жой +0.11*обар -0.10*эйерон +0.10*ренл -0.10*робб -0.10*петир -0.09*уилл +0.08*сир +0.08*хаггон -0.08*меч -0.08*уолдер\n",
      "\n",
      "Topic #35: -0.29*уилл +0.24*сир -0.18*гаред +0.18*квентин +0.18*эйерон +0.17*меррет -0.17*гиздар -0.17*обар -0.15*принц +0.13*варамир -0.12*уэймар -0.11*аре +0.10*геррис -0.10*робб +0.10*рыцар -0.09*капита +0.09*ариан +0.09*крейтон +0.09*был -0.08*даар\n",
      "\n",
      "Topic #36: +0.23*меррет +0.22*кварл -0.19*лим +0.19*трис -0.17*берик -0.16*торос +0.16*хагон +0.14*гловер -0.12*эйерон +0.12*ломм -0.11*лорд -0.11*энг -0.11*уилл -0.11*пес +0.10*йор +0.10*болтон +0.10*родрик +0.09*крастер +0.09*темнолес +0.09*пирожок\n",
      "\n",
      "Topic #37: -0.17*лим -0.15*крастер -0.15*бран +0.15*ходор -0.15*тормунд +0.14*жой -0.13*берик -0.12*торос +0.12*был +0.12*ксар -0.11*лиз +0.11*ломм +0.10*эдмар -0.10*женщин -0.10*лювин +0.09*фре -0.09*сказа -0.09*энг -0.09*вардис -0.09*кразнис\n",
      "\n",
      "Topic #38: -0.18*пирожок -0.18*меррет -0.17*ломм -0.16*уилл +0.16*кварл +0.16*кресс -0.14*джендр +0.14*трис -0.14*иллир -0.13*йор +0.12*хагон -0.11*корол +0.11*пес +0.10*кон +0.10*лорд -0.10*гаред -0.10*обар -0.09*принц -0.09*виктарион +0.09*берик\n",
      "\n",
      "Topic #39: +0.26*тормунд +0.25*крастер +0.16*манс +0.13*кресс +0.12*игритт -0.11*лим +0.11*эйерон +0.11*бран -0.11*станнис +0.10*сир -0.10*иллир -0.10*жой +0.10*мейстер -0.10*меррет -0.09*берик -0.09*кварл -0.09*ходор -0.09*корол +0.09*ломм +0.09*ворон\n",
      "\n",
      "Topic #40: +0.25*ксар +0.18*иллир -0.17*йецца -0.16*пен -0.13*раб +0.12*крастер -0.12*кразнис -0.12*обар -0.11*нянюшк -0.11*нед -0.10*квот -0.10*фре +0.09*кварт +0.09*визерис +0.09*тормунд -0.09*эйерон +0.09*дом +0.09*вонючк -0.09*ходор -0.08*эдмар\n",
      "\n",
      "Topic #41: -0.21*меррет +0.17*пен +0.16*ксар -0.15*кразнис +0.15*йецца -0.15*кет -0.13*грифф +0.13*корабл +0.11*иллир +0.11*лим +0.10*мейстер -0.10*ренл +0.10*рыцар +0.09*нянюшк +0.09*нед -0.09*безупречн +0.09*крейтон +0.09*сир -0.08*корол -0.08*тайвин\n",
      "\n",
      "Topic #42: -0.18*ксар +0.14*вонючк -0.14*болтон -0.13*снег +0.13*кварл +0.11*трис +0.11*крейтон +0.11*сказа -0.10*эйерон +0.10*кразнис -0.10*иллир -0.10*станнис +0.09*уилл -0.09*рук +0.09*хагон -0.09*джастин +0.08*нет -0.08*бог -0.08*королев +0.08*лим\n",
      "\n",
      "Topic #43: +0.19*слинт -0.19*тормунд +0.14*янос -0.14*снег -0.13*иллир +0.13*крастер -0.13*кива +0.12*стрел +0.11*варис -0.11*игритт -0.10*крейтон -0.10*тайвин -0.09*сэм +0.09*милорд +0.09*кейтилин +0.09*лилл +0.09*квот +0.08*атлас +0.08*корабл -0.08*фре\n",
      "\n",
      "Topic #44: -0.23*ренл -0.14*пен -0.14*меррет -0.14*йецца +0.14*кразнис +0.12*подрик -0.11*петир -0.11*ксар -0.11*кет +0.11*фре +0.11*мерибальд +0.10*хил +0.10*крастер +0.10*уолдер +0.10*эдмар -0.09*кон -0.09*лорд -0.09*крейтон -0.09*робб -0.08*нянюшк\n",
      "\n",
      "Topic #45: +0.24*иллир -0.23*ксар -0.13*тормунд +0.12*визерис +0.12*игритт +0.11*магистр +0.11*корол +0.10*кразнис +0.10*стрел +0.10*петир -0.09*кварт -0.09*меррет +0.09*нестор -0.08*мирр -0.08*квот +0.08*ной +0.08*атлас -0.08*королев -0.08*корабл -0.08*жой\n",
      "\n",
      "Topic #46: +0.29*крейтон +0.23*ксар +0.19*иллифер -0.18*йецца -0.14*пен -0.13*иллир -0.13*подрик +0.11*лим -0.11*нянюшк -0.11*хил -0.11*крэб -0.11*мерибальд -0.10*брат -0.10*визерис +0.10*шадрик -0.09*дик +0.09*кварт +0.08*ден +0.08*купец +0.08*квентин\n",
      "\n",
      "Topic #47: +0.17*ксар -0.15*кива +0.13*игритт -0.11*крейтон -0.11*пирожок -0.11*снег +0.11*был +0.10*виз -0.10*джендр -0.09*ломм +0.09*хоут -0.09*лед +0.09*рорж +0.09*манс -0.08*тирелл +0.08*харренхолл +0.08*куор -0.08*кет +0.08*тормунд -0.07*иллифер\n",
      "\n",
      "Topic #48: -0.19*кива -0.18*ксар +0.15*кразнис +0.14*лорд -0.12*тирелл +0.11*ходор -0.11*сказа -0.10*коннингтон -0.10*снег -0.10*крэб -0.10*сир -0.10*дик -0.10*бран +0.09*квиберн +0.09*рек -0.09*грен +0.08*лилл +0.08*гиздар +0.08*жой +0.08*болтон\n",
      "\n",
      "Topic #49: +0.21*кива +0.16*меррет -0.15*кет +0.14*тирелл +0.13*тайвин +0.12*крейтон +0.12*виз -0.11*был -0.11*уолдер -0.11*фре -0.09*брат +0.09*девочк -0.09*бельвас -0.08*ренл +0.08*ланнистер +0.08*иллифер +0.08*харренхолл +0.08*рорж +0.07*пен -0.07*кон\n",
      "\n"
     ]
    }
   ],
   "source": [
    "for topic_index in range(50):\n",
    "    print 'Topic #%d:' % topic_index, lsa_printer.top_topic_tokens_as_string(topic_index, W_top)\n",
    "    print "
   ]
  }
 ],
 "metadata": {
  "kernelspec": {
   "display_name": "Python 2",
   "language": "python",
   "name": "python2"
  },
  "language_info": {
   "codemirror_mode": {
    "name": "ipython",
    "version": 2
   },
   "file_extension": ".py",
   "mimetype": "text/x-python",
   "name": "python",
   "nbconvert_exporter": "python",
   "pygments_lexer": "ipython2",
   "version": "2.7.6"
  }
 },
 "nbformat": 4,
 "nbformat_minor": 0
}
